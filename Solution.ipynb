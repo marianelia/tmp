{
  "cells": [
    {
      "cell_type": "markdown",
      "metadata": {
        "id": "view-in-github",
        "colab_type": "text"
      },
      "source": [
        "<a href=\"https://colab.research.google.com/github/marianelia/tmp/blob/main/Solution.ipynb\" target=\"_parent\"><img src=\"https://colab.research.google.com/assets/colab-badge.svg\" alt=\"Open In Colab\"/></a>"
      ]
    },
    {
      "cell_type": "markdown",
      "metadata": {
        "id": "aFp2aK34okpG"
      },
      "source": [
        "## Лабораторная работа по курсу \"Искусственный интеллект\"\n",
        "## Многослойный персептрон\n",
        "\n",
        "| Студент | Лагуткина |\n",
        "|---------|--------|\n",
        "| Группа  | 6      |\n",
        "\n",
        "Вариант: 1\n",
        "\n",
        "Для начала, скачаем датасет MNIST. Используйте `wget` или `curl`, либо скачайте вручную [по ссылке](https://raw.githubusercontent.com/shwars/NeuroWorkshop/master/Data/MNIST/mnist.pkl.gz)."
      ]
    },
    {
      "cell_type": "markdown",
      "source": [
        "## Нейронная сеть \n",
        "### Установка библиотек и настройка среды\n"
      ],
      "metadata": {
        "id": "04VDWhZ1sJuA"
      }
    },
    {
      "cell_type": "code",
      "execution_count": 1,
      "metadata": {
        "tags": [],
        "id": "Bcu9rYIaokpQ"
      },
      "outputs": [],
      "source": [
        "import torch\n",
        "import numpy as np\n",
        "import pandas\n",
        "import torchvision.datasets as datasets\n",
        "import torchvision.transforms as transforms\n",
        "import matplotlib.pyplot as plt"
      ]
    },
    {
      "cell_type": "code",
      "source": [
        "print(torch.__version__)"
      ],
      "metadata": {
        "colab": {
          "base_uri": "https://localhost:8080/"
        },
        "id": "DDtD4hoouVP8",
        "outputId": "d2e8f42a-1cc6-49d7-adcf-6256cf86797b"
      },
      "execution_count": 2,
      "outputs": [
        {
          "output_type": "stream",
          "name": "stdout",
          "text": [
            "1.11.0+cu113\n"
          ]
        }
      ]
    },
    {
      "cell_type": "markdown",
      "source": [
        "### Устанавливаем вычислительное устройство"
      ],
      "metadata": {
        "id": "b8ZOCpZ-sHhE"
      }
    },
    {
      "cell_type": "code",
      "source": [
        "device = 'cuda' if torch.cuda.is_available() else 'cpu'\n",
        "def print_device():\n",
        "  print('Doing computations on '+device)"
      ],
      "metadata": {
        "id": "sNUj7WZUttXV"
      },
      "execution_count": 3,
      "outputs": []
    },
    {
      "cell_type": "markdown",
      "metadata": {
        "id": "Ilc-g2EbokpU"
      },
      "source": [
        "## Нейросеть\n"
      ]
    },
    {
      "cell_type": "code",
      "execution_count": 9,
      "metadata": {
        "id": "bQ0VKw1mokpW"
      },
      "outputs": [],
      "source": [
        "\n",
        "#TODO перписать в свою \n",
        "class Perceptron_solution_pytorch(torch.nn.Module):\n",
        "    def __init__(self,learning_rate=0.1,epochs=10, layers=[], func=torch.nn.Tanh(), \n",
        "                 loss_func=torch.nn.functional.binary_cross_entropy_with_logits):\n",
        "        super().__init__()\n",
        "        self.learning_rate=learning_rate\n",
        "        self.layers=layers\n",
        "        self.func=func\n",
        "        self.epochs=epochs\n",
        "        self.loss_function=loss_func\n",
        "        self.level=0\n",
        "    \n",
        "    def print_format(self, msg, level=-1):\n",
        "        if level == -1:\n",
        "            level = self.level\n",
        "        print(\"  \"*level + msg)\n",
        "        \n",
        "    def training(self, X, Y):\n",
        "        self.create(X,Y)\n",
        "        self.level = 0\n",
        "        self.print_format(\"Network Training:\") #!!!!!!\n",
        "        self.level += 1\n",
        "        \n",
        "        val_x = torch.tensor(np.array(X).astype(np.float32))\n",
        "        val_y = []\n",
        "        for y in Y:\n",
        "            val = np.zeros(self.classes_count)\n",
        "            for i in range(10):\n",
        "                val[i] = 1 if i == y else 0\n",
        "            val_y.append(val.copy().astype(np.float32))\n",
        "        dataset = torch.utils.data.TensorDataset(val_x,torch.tensor(val_y,dtype=torch.float32))\n",
        "        dataloader = torch.utils.data.DataLoader(dataset,batch_size=16)\n",
        "        #оптимизация\n",
        "        optim = torch.optim.Adam(self.net.parameters(),lr=self.learning_rate)\n",
        "        for epoch in range(1, self.epochs+1):\n",
        "            for (x,y) in dataloader:\n",
        "                z = self.net(x)\n",
        "                loss = self.loss_function(z,y)\n",
        "                optim.zero_grad()\n",
        "                loss.backward()\n",
        "                optim.step()\n",
        "            acc = self.accuracy(X,Y)\n",
        "            self.print_format(\"Epoch {} of {}: loss : {}, accuracy : {}\".format(epoch, self.epochs,loss,acc))\n",
        "        return self\n",
        "        \n",
        "    def create(self, X,Y):\n",
        "        self.level=0\n",
        "        #настройки для вывода параметров пользователю\n",
        "        layers_tmp = self.layers.copy()\n",
        "        layers_tmp.insert(0, len(X[0]))\n",
        "        layers_tmp.append(len(np.unique(Y)))\n",
        "        self.classes_count = layers_tmp[-1]\n",
        "        module_layers = []\n",
        "        self.print_format(\"Network Training:\")\n",
        "        self.level += 1\n",
        "        self.print_format(\"In | {}\".format(layers_tmp[0]))\n",
        "        self.print_format(\"Out | {}\".format(layers_tmp[-1]))\n",
        "        self.print_format(\"Hidden layers    | {}\".format(len(layers_tmp)-2))\n",
        "        self.print_format(\"The breadth of hidden layers    | {}\".format(self.layers))\n",
        "        self.level -= 1\n",
        "        #настройка сети, добавляем линейный слой и преобразовываем к значениям вероятностей\n",
        "        for i in range(len(layers_tmp)-2):\n",
        "            module_layers.append(torch.nn.Linear(layers_tmp[i], layers_tmp[i+1]))\n",
        "            module_layers.append(self.func) \n",
        "        module_layers.append(torch.nn.Linear(layers_tmp[-2], layers_tmp[-1]))\n",
        "        self.net = torch.nn.Sequential(*module_layers)\n",
        "        return self    \n",
        "    #точность         \n",
        "    def accuracy(self, X, Y):\n",
        "        val_x = torch.tensor(np.array(X).astype(np.float32))\n",
        "        answer = self.net(val_x)\n",
        "        results = [ np.argmax(v.detach().numpy()) for v in self.func(answer)]\n",
        "        total_success = 0\n",
        "        for res, y in zip(results, Y):\n",
        "            if res == y:\n",
        "                total_success += 1\n",
        "        acc = total_success / len(Y)\n",
        "        return acc\n",
        "    def confusion_matrix(self, X, Y):\n",
        "        val_x = torch.tensor(np.array(X).astype(np.float32))\n",
        "        answer = self.net(val_x)\n",
        "        results = [ np.argmax(v.detach().numpy()) for v in self.func(answer)]\n",
        "        matrix = np.zeros((self.classes_count, self.classes_count), dtype=np.int32)\n",
        "        for res, y in zip(results, Y):\n",
        "            matrix[res][y] += 1\n",
        "        return matrix"
      ]
    },
    {
      "cell_type": "code",
      "execution_count": null,
      "metadata": {
        "id": "gn_-DpWtokpX"
      },
      "outputs": [],
      "source": [
        ""
      ]
    },
    {
      "cell_type": "markdown",
      "metadata": {
        "id": "WpDE6uqfokpY"
      },
      "source": [
        "## Загрузка датасетов и подготовка данных"
      ]
    },
    {
      "cell_type": "markdown",
      "source": [
        "### Подготовительные функции"
      ],
      "metadata": {
        "id": "sQ_oypvEuy-m"
      }
    },
    {
      "cell_type": "code",
      "source": [
        "def convert_values(df):\n",
        "    return np.array(df).astype(np.float32)/255\n",
        "\n",
        "\n",
        "# TODO: замепнить на свои функции из 2.1\n",
        "def count_of_keys(data):\n",
        "    unique = np.unique(data)\n",
        "    count = np.zeros(len(unique), dtype=np.int32)\n",
        "    for v in data:\n",
        "        count[v] += 1\n",
        "    return count\n",
        "\n",
        "def visualization_of_counts(df):\n",
        "    counts = count_of_keys(df)\n",
        "    plt.ylabel(\"Кол-во элементов в классе\")\n",
        "    plt.xlabel(\"Номер каждого класса\")\n",
        "    plt.bar(np.arange(len(counts)), counts)\n",
        "    plt.xticks(np.arange(len(counts)), [i for i in range(len(counts))])\n",
        "\n",
        "def print_data(labels, features, string :str, color_chart):\n",
        "    visualization_of_counts(labels)\n",
        "    print(\"{}\".format(string))\n",
        "    print(\"Number of elements in the dataset : {}\".format(len(labels)))\n",
        "    print(\"The number of attributes in the element : {}\".format(len(features[0])))\n",
        "    print()\n",
        "    \n",
        "def analyze(labels, features, string :str):\n",
        "    visualization_of_counts(labels)\n",
        "    print(\"Данные для [{}]\".format(string))\n",
        "    print(\"Количество элементов в датасете : {}\".format(len(labels)))\n",
        "    print(\"Количество атрибутов в элементе : {}\".format(len(features[0])))\n",
        "    print(\"Минимальное значение атрибута   : {}\".format(np.min(features)))\n",
        "    print(\"Максимальное значение атрибута  : {}\".format(np.max(features)))\n",
        "    print()"
      ],
      "metadata": {
        "id": "ufRfiXpKuyKx"
      },
      "execution_count": 6,
      "outputs": []
    },
    {
      "cell_type": "markdown",
      "source": [
        "### MNIST"
      ],
      "metadata": {
        "id": "T4aHCe6r--qn"
      }
    },
    {
      "cell_type": "code",
      "execution_count": 29,
      "metadata": {
        "colab": {
          "base_uri": "https://localhost:8080/",
          "height": 626
        },
        "id": "b4Rh3KARokpY",
        "outputId": "1da2e53c-af4d-4528-e828-f18566603b3e"
      },
      "outputs": [
        {
          "output_type": "stream",
          "name": "stderr",
          "text": [
            "/usr/local/lib/python3.7/dist-packages/torchvision/datasets/mnist.py:65: UserWarning: train_labels has been renamed targets\n",
            "  warnings.warn(\"train_labels has been renamed targets\")\n",
            "/usr/local/lib/python3.7/dist-packages/torchvision/datasets/mnist.py:75: UserWarning: train_data has been renamed data\n",
            "  warnings.warn(\"train_data has been renamed data\")\n"
          ]
        },
        {
          "output_type": "stream",
          "name": "stdout",
          "text": [
            "<class 'torchvision.datasets.mnist.MNIST'>\n",
            "(60000, 784)\n",
            "Данные для [Обучающая выборка из MNIST]\n",
            "Количество элементов в датасете : 60000\n",
            "Количество атрибутов в элементе : 784\n",
            "Минимальное значение атрибута   : 0.0\n",
            "Максимальное значение атрибута  : 1.0\n",
            "\n",
            "(10000, 784)\n",
            "Данные для [Тестовая выборка из MNIST]\n",
            "Количество элементов в датасете : 10000\n",
            "Количество атрибутов в элементе : 784\n",
            "Минимальное значение атрибута   : 0.0\n",
            "Максимальное значение атрибута  : 1.0\n",
            "\n"
          ]
        },
        {
          "output_type": "display_data",
          "data": {
            "text/plain": [
              "<Figure size 432x288 with 1 Axes>"
            ],
            "image/png": "[encoded data removed]"
          },
          "metadata": {
            "needs_background": "light"
          }
        }
      ],
      "source": [
        "#transformations = transforms.Compose([\n",
        "#  transforms.ToTensor(),\n",
        "#  transforms.Normalize()                                         \n",
        "#])\n",
        "#TODO поставить свои функции\n",
        "#Убрать кол-во элементов в атрибуте \n",
        "#Почему 28-то??\n",
        "#TODO разбиение на выборки вынести в analize \n",
        "mnist_train = datasets.MNIST(root = './data/', train = True, transform = transforms.ToTensor(), download=True)\n",
        "mnist_train_x = mnist_train.train_labels;\n",
        "mnist_train_y_raw = mnist_train.train_data;\n",
        "\n",
        "mnist_train_y = convert_values(mnist_train_y_raw)\n",
        "mnist_train_y_reshape = mnist_train_y.reshape(60000, -1)\n",
        "print(mnist_train_y_reshape.shape)\n",
        "\n",
        "analyze(mnist_train_x, mnist_train_y_reshape, \"Обучающая выборка из MNIST\")\n",
        "\n",
        "mnist_test = datasets.MNIST(root = './data/', train = False,transform = transforms.ToTensor(), download=True)\n",
        "mnist_test_x = mnist_test.train_labels;\n",
        "mnist_test_y_raw = mnist_test.train_data;\n",
        "\n",
        "mnist_test_y = convert_values(mnist_test_y_raw)\n",
        "mnist_test_y_reshape = mnist_test_y.reshape(10000, -1)\n",
        "print(mnist_test_y_reshape.shape)\n",
        "analyze(mnist_test_x, mnist_test_y_reshape, \"Тестовая выборка из MNIST\")\n",
        "\n",
        "#delete:\n",
        "#print(len(mnist_train_x))\n",
        "#print(len(mnist_train_y[0]))\n",
        "#print(np.min(mnist_train_y))\n",
        "#print(np.max(mnist_train_y))\n",
        "#print(MNIST_test)"
      ]
    },
    {
      "cell_type": "markdown",
      "metadata": {
        "id": "TXcJd_tWokpZ"
      },
      "source": [
        "### FasionMNIST"
      ]
    },
    {
      "cell_type": "code",
      "execution_count": 17,
      "metadata": {
        "id": "EB6tii5hokpa",
        "colab": {
          "base_uri": "https://localhost:8080/",
          "height": 606
        },
        "outputId": "684c6bc2-1fb4-467e-d3cb-58e1b6828ae9"
      },
      "outputs": [
        {
          "output_type": "stream",
          "name": "stderr",
          "text": [
            "/usr/local/lib/python3.7/dist-packages/torchvision/datasets/mnist.py:65: UserWarning: train_labels has been renamed targets\n",
            "  warnings.warn(\"train_labels has been renamed targets\")\n",
            "/usr/local/lib/python3.7/dist-packages/torchvision/datasets/mnist.py:75: UserWarning: train_data has been renamed data\n",
            "  warnings.warn(\"train_data has been renamed data\")\n"
          ]
        },
        {
          "output_type": "stream",
          "name": "stdout",
          "text": [
            "(60000, 784)\n",
            "Данные для [Обучающая выборка из Fashion MNIST]\n",
            "Количество элементов в датасете : 60000\n",
            "Количество атрибутов в элементе : 784\n",
            "Минимальное значение атрибута   : 0.0\n",
            "Максимальное значение атрибута  : 1.0\n",
            "\n",
            "(10000, 784)\n",
            "Данные для [Тестовая выборка из Fashion MNIST]\n",
            "Количество элементов в датасете : 10000\n",
            "Количество атрибутов в элементе : 784\n",
            "Минимальное значение атрибута   : 0.0\n",
            "Максимальное значение атрибута  : 1.0\n",
            "\n"
          ]
        },
        {
          "output_type": "display_data",
          "data": {
            "text/plain": [
              "<Figure size 432x288 with 1 Axes>"
            ],
            "image/png": "[encoded data removed]"
          },
          "metadata": {
            "needs_background": "light"
          }
        }
      ],
      "source": [
        "fashion_mnist_train = datasets.FashionMNIST(root = './fdata/', train = True, transform = transforms.ToTensor(), download=True)\n",
        "fashion_mnist_train_x = fashion_mnist_train.train_labels;\n",
        "fashion_mnist_train_y_raw = fashion_mnist_train.train_data;\n",
        "\n",
        "fashion_mnist_train_y = convert_values(fashion_mnist_train_y_raw)\n",
        "fashion_mnist_train_y_reshape = fashion_mnist_train_y.reshape(60000, -1)\n",
        "\n",
        "print(fashion_mnist_train_y_reshape.shape)\n",
        "\n",
        "analyze(fashion_mnist_train_x, fashion_mnist_train_y_reshape, \"Обучающая выборка из Fashion MNIST\")\n",
        "\n",
        "fashion_mnist_test = datasets.MNIST(root = './fdata/', train = False,transform = transforms.ToTensor(), download=True)\n",
        "fashion_mnist_test_x = fashion_mnist_test.train_labels;\n",
        "fashion_mnist_test_y_raw = fashion_mnist_test.train_data;\n",
        "\n",
        "fashion_mnist_test_y = convert_values(fashion_mnist_test_y_raw)\n",
        "\n",
        "fashion_mnist_test_y_reshape = fashion_mnist_test_y.reshape(10000, -1)\n",
        "print(fashion_mnist_test_y_reshape.shape)\n",
        "analyze(fashion_mnist_test_x, fashion_mnist_test_y_reshape, \"Тестовая выборка из Fashion MNIST\")\n",
        "\n",
        "\n",
        "#print(fashion_mnist_train)\n",
        "#(fashion_mnist_train_y_raw.shape)"
      ]
    },
    {
      "cell_type": "markdown",
      "source": [
        "### CIFAR-10"
      ],
      "metadata": {
        "id": "LbgSwyYw1i5v"
      }
    },
    {
      "cell_type": "code",
      "source": [
        "transform = transforms.Compose(\n",
        "    [transforms.ToTensor(),\n",
        "     transforms.Normalize((0.5, 0.5, 0.5), (0.5, 0.5, 0.5))])\n",
        "\n",
        "cfar_train_list = datasets.CIFAR10(root = './cdata/', train = True, transform = transform, download=True)\n",
        "\n",
        "#cfar_train_x = cfar_train.train_labels;\n",
        "#cfar_train_y_raw = cfar_train.train_data;\n",
        "\n",
        "\n",
        "cfar_test_list = datasets.CIFAR10(root = './cdata/', train = False,transform = transform, download=True)\n",
        "\n",
        "print(cfar_test_list['test_batch'])\n"
      ],
      "metadata": {
        "id": "VK52Br1O1s4M",
        "colab": {
          "base_uri": "https://localhost:8080/",
          "height": 371
        },
        "outputId": "4cc5e2ca-ff1b-4097-9f21-8c9656943585"
      },
      "execution_count": 35,
      "outputs": [
        {
          "output_type": "stream",
          "name": "stdout",
          "text": [
            "Files already downloaded and verified\n",
            "Files already downloaded and verified\n"
          ]
        },
        {
          "output_type": "error",
          "ename": "IndexError",
          "evalue": "ignored",
          "traceback": [
            "\u001b[0;31m---------------------------------------------------------------------------\u001b[0m",
            "\u001b[0;31mIndexError\u001b[0m                                Traceback (most recent call last)",
            "\u001b[0;32m<ipython-input-35-785a15483b3a>\u001b[0m in \u001b[0;36m<module>\u001b[0;34m()\u001b[0m\n\u001b[1;32m     11\u001b[0m \u001b[0mcfar_test_list\u001b[0m \u001b[0;34m=\u001b[0m \u001b[0mdatasets\u001b[0m\u001b[0;34m.\u001b[0m\u001b[0mCIFAR10\u001b[0m\u001b[0;34m(\u001b[0m\u001b[0mroot\u001b[0m \u001b[0;34m=\u001b[0m \u001b[0;34m'./cdata/'\u001b[0m\u001b[0;34m,\u001b[0m \u001b[0mtrain\u001b[0m \u001b[0;34m=\u001b[0m \u001b[0;32mFalse\u001b[0m\u001b[0;34m,\u001b[0m\u001b[0mtransform\u001b[0m \u001b[0;34m=\u001b[0m \u001b[0mtransform\u001b[0m\u001b[0;34m,\u001b[0m \u001b[0mdownload\u001b[0m\u001b[0;34m=\u001b[0m\u001b[0;32mTrue\u001b[0m\u001b[0;34m)\u001b[0m\u001b[0;34m\u001b[0m\u001b[0;34m\u001b[0m\u001b[0m\n\u001b[1;32m     12\u001b[0m \u001b[0;34m\u001b[0m\u001b[0m\n\u001b[0;32m---> 13\u001b[0;31m \u001b[0mprint\u001b[0m\u001b[0;34m(\u001b[0m\u001b[0mcfar_test_list\u001b[0m\u001b[0;34m[\u001b[0m\u001b[0;34m'test_batch'\u001b[0m\u001b[0;34m]\u001b[0m\u001b[0;34m)\u001b[0m\u001b[0;34m\u001b[0m\u001b[0;34m\u001b[0m\u001b[0m\n\u001b[0m",
            "\u001b[0;32m/usr/local/lib/python3.7/dist-packages/torchvision/datasets/cifar.py\u001b[0m in \u001b[0;36m__getitem__\u001b[0;34m(self, index)\u001b[0m\n\u001b[1;32m    109\u001b[0m             \u001b[0mtuple\u001b[0m\u001b[0;34m:\u001b[0m \u001b[0;34m(\u001b[0m\u001b[0mimage\u001b[0m\u001b[0;34m,\u001b[0m \u001b[0mtarget\u001b[0m\u001b[0;34m)\u001b[0m \u001b[0mwhere\u001b[0m \u001b[0mtarget\u001b[0m \u001b[0;32mis\u001b[0m \u001b[0mindex\u001b[0m \u001b[0mof\u001b[0m \u001b[0mthe\u001b[0m \u001b[0mtarget\u001b[0m \u001b[0;32mclass\u001b[0m\u001b[0;34m.\u001b[0m\u001b[0;34m\u001b[0m\u001b[0;34m\u001b[0m\u001b[0m\n\u001b[1;32m    110\u001b[0m         \"\"\"\n\u001b[0;32m--> 111\u001b[0;31m         \u001b[0mimg\u001b[0m\u001b[0;34m,\u001b[0m \u001b[0mtarget\u001b[0m \u001b[0;34m=\u001b[0m \u001b[0mself\u001b[0m\u001b[0;34m.\u001b[0m\u001b[0mdata\u001b[0m\u001b[0;34m[\u001b[0m\u001b[0mindex\u001b[0m\u001b[0;34m]\u001b[0m\u001b[0;34m,\u001b[0m \u001b[0mself\u001b[0m\u001b[0;34m.\u001b[0m\u001b[0mtargets\u001b[0m\u001b[0;34m[\u001b[0m\u001b[0mindex\u001b[0m\u001b[0;34m]\u001b[0m\u001b[0;34m\u001b[0m\u001b[0;34m\u001b[0m\u001b[0m\n\u001b[0m\u001b[1;32m    112\u001b[0m \u001b[0;34m\u001b[0m\u001b[0m\n\u001b[1;32m    113\u001b[0m         \u001b[0;31m# doing this so that it is consistent with all other datasets\u001b[0m\u001b[0;34m\u001b[0m\u001b[0;34m\u001b[0m\u001b[0;34m\u001b[0m\u001b[0m\n",
            "\u001b[0;31mIndexError\u001b[0m: only integers, slices (`:`), ellipsis (`...`), numpy.newaxis (`None`) and integer or boolean arrays are valid indices"
          ]
        }
      ]
    },
    {
      "cell_type": "markdown",
      "source": [
        "## Обучение и тестирование сети  "
      ],
      "metadata": {
        "id": "POTme1e51t7j"
      }
    },
    {
      "cell_type": "code",
      "source": [
        ""
      ],
      "metadata": {
        "id": "OIASG0pE1w-q"
      },
      "execution_count": null,
      "outputs": []
    }
  ],
  "metadata": {
    "kernelspec": {
      "display_name": "Python 3 (ipykernel)",
      "language": "python",
      "name": "python3"
    },
    "language_info": {
      "codemirror_mode": {
        "name": "ipython",
        "version": 3
      },
      "file_extension": ".py",
      "mimetype": "text/x-python",
      "name": "python",
      "nbconvert_exporter": "python",
      "pygments_lexer": "ipython3",
      "version": "3.10.2"
    },
    "colab": {
      "name": "Solution.ipynb",
      "provenance": [],
      "collapsed_sections": [
        "TXcJd_tWokpZ",
        "LbgSwyYw1i5v"
      ],
      "include_colab_link": true
    }
  },
  "nbformat": 4,
  "nbformat_minor": 0
}