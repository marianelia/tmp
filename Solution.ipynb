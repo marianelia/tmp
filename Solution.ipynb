{
  "cells": [
    {
      "cell_type": "markdown",
      "metadata": {
        "id": "view-in-github",
        "colab_type": "text"
      },
      "source": [
        "<a href=\"https://colab.research.google.com/github/marianelia/tmp/blob/main/Solution.ipynb\" target=\"_parent\"><img src=\"https://colab.research.google.com/assets/colab-badge.svg\" alt=\"Open In Colab\"/></a>"
      ]
    },
    {
      "cell_type": "markdown",
      "metadata": {
        "id": "aFp2aK34okpG"
      },
      "source": [
        "## Лабораторная работа по курсу \"Искусственный интеллект\"\n",
        "## Многослойный персептрон\n",
        "\n",
        "| Студент | Лагуткина |\n",
        "|---------|--------|\n",
        "| Группа  | 6      |\n",
        "\n",
        "Вариант: 1\n",
        "\n",
        "Для начала, скачаем датасет MNIST. Используйте `wget` или `curl`, либо скачайте вручную [по ссылке](https://raw.githubusercontent.com/shwars/NeuroWorkshop/master/Data/MNIST/mnist.pkl.gz)."
      ]
    },
    {
      "cell_type": "markdown",
      "source": [
        "## Нейронная сеть \n",
        "### Установка библиотек и настройка среды\n"
      ],
      "metadata": {
        "id": "04VDWhZ1sJuA"
      }
    },
    {
      "cell_type": "code",
      "execution_count": null,
      "metadata": {
        "tags": [],
        "id": "Bcu9rYIaokpQ"
      },
      "outputs": [],
      "source": [
        "import torch\n",
        "import numpy as np\n",
        "import pandas\n",
        "import torchvision.utils\n",
        "import torchvision.datasets as datasets\n",
        "import torchvision.transforms as transforms\n",
        "import matplotlib.pyplot as plt"
      ]
    },
    {
      "cell_type": "code",
      "source": [
        "print(torch.__version__)"
      ],
      "metadata": {
        "colab": {
          "base_uri": "https://localhost:8080/"
        },
        "id": "DDtD4hoouVP8",
        "outputId": "3fd5f3ad-c4ec-4b91-f50f-1225c8373fb4"
      },
      "execution_count": null,
      "outputs": [
        {
          "output_type": "stream",
          "name": "stdout",
          "text": [
            "1.11.0+cu113\n"
          ]
        }
      ]
    },
    {
      "cell_type": "markdown",
      "source": [
        "### Устанавливаем вычислительное устройство"
      ],
      "metadata": {
        "id": "b8ZOCpZ-sHhE"
      }
    },
    {
      "cell_type": "code",
      "source": [
        "device = 'cuda' if torch.cuda.is_available() else 'cpu'\n",
        "def print_device():\n",
        "  print('Doing computations on '+device)"
      ],
      "metadata": {
        "id": "sNUj7WZUttXV"
      },
      "execution_count": null,
      "outputs": []
    },
    {
      "cell_type": "markdown",
      "metadata": {
        "id": "Ilc-g2EbokpU"
      },
      "source": [
        "## Нейросеть\n"
      ]
    },
    {
      "cell_type": "code",
      "execution_count": null,
      "metadata": {
        "id": "bQ0VKw1mokpW"
      },
      "outputs": [],
      "source": [
        "\n",
        "#TODO перписать в свою \n",
        "class Perceptron_solution_pytorch(torch.nn.Module):\n",
        "    def __init__(self,learning_rate=0.1,epochs=10, layers=[], func=torch.nn.Tanh(), \n",
        "                 loss_func=torch.nn.functional.binary_cross_entropy_with_logits):\n",
        "        super().__init__()\n",
        "        self.learning_rate=learning_rate\n",
        "        self.layers=layers\n",
        "        self.func=func\n",
        "        self.epochs=epochs\n",
        "        self.loss_function=loss_func\n",
        "        self.level=0\n",
        "    \n",
        "    def print_format(self, msg, level=-1):\n",
        "        if level == -1:\n",
        "            level = self.level\n",
        "        print(\"  \"*level + msg)\n",
        "        \n",
        "    def training(self, X, Y):\n",
        "        self.create(X,Y)\n",
        "        self.level = 0\n",
        "        self.print_format(\"Network Training:\") #!!!!!!\n",
        "        self.level += 1\n",
        "        \n",
        "        val_x = torch.tensor(np.array(X).astype(np.float32))\n",
        "        val_y = []\n",
        "        for y in Y:\n",
        "            val = np.zeros(self.classes_count)\n",
        "            for i in range(10):\n",
        "                val[i] = 1 if i == y else 0\n",
        "            val_y.append(val.copy().astype(np.float32))\n",
        "        dataset = torch.utils.data.TensorDataset(val_x,torch.tensor(val_y,dtype=torch.float32))\n",
        "        dataloader = torch.utils.data.DataLoader(dataset,batch_size=16)\n",
        "        #оптимизация\n",
        "        optim = torch.optim.Adam(self.net.parameters(),lr=self.learning_rate)\n",
        "        for epoch in range(1, self.epochs+1):\n",
        "            for (x,y) in dataloader:\n",
        "                z = self.net(x)\n",
        "                loss = self.loss_function(z,y)\n",
        "                optim.zero_grad()\n",
        "                loss.backward()\n",
        "                optim.step()\n",
        "            acc = self.accuracy(X,Y)\n",
        "            self.print_format(\"Epoch {} of {}: loss : {}, accuracy : {}\".format(epoch, self.epochs,loss,acc))\n",
        "        return self\n",
        "        \n",
        "    def create(self, X,Y):\n",
        "        self.level=0\n",
        "        #настройки для вывода параметров пользователю\n",
        "        layers_tmp = self.layers.copy()\n",
        "        layers_tmp.insert(0, len(X[0]))\n",
        "        layers_tmp.append(len(np.unique(Y)))\n",
        "        self.classes_count = layers_tmp[-1]\n",
        "        module_layers = []\n",
        "        self.print_format(\"Network Training:\")\n",
        "        self.level += 1\n",
        "        self.print_format(\"In | {}\".format(layers_tmp[0]))\n",
        "        self.print_format(\"Out | {}\".format(layers_tmp[-1]))\n",
        "        self.print_format(\"Hidden layers    | {}\".format(len(layers_tmp)-2))\n",
        "        self.print_format(\"The breadth of hidden layers    | {}\".format(self.layers))\n",
        "        self.level -= 1\n",
        "        #настройка сети, добавляем линейный слой и преобразовываем к значениям вероятностей\n",
        "        for i in range(len(layers_tmp)-2):\n",
        "            module_layers.append(torch.nn.Linear(layers_tmp[i], layers_tmp[i+1]))\n",
        "            module_layers.append(self.func) \n",
        "        module_layers.append(torch.nn.Linear(layers_tmp[-2], layers_tmp[-1]))\n",
        "        self.net = torch.nn.Sequential(*module_layers)\n",
        "        return self    \n",
        "    #точность         \n",
        "    def accuracy(self, X, Y):\n",
        "        val_x = torch.tensor(np.array(X).astype(np.float32))\n",
        "        answer = self.net(val_x)\n",
        "        results = [ np.argmax(v.detach().numpy()) for v in self.func(answer)]\n",
        "        total_success = 0\n",
        "        for res, y in zip(results, Y):\n",
        "            if res == y:\n",
        "                total_success += 1\n",
        "        acc = total_success / len(Y)\n",
        "        return acc\n",
        "    def confusion_matrix(self, X, Y):\n",
        "        val_x = torch.tensor(np.array(X).astype(np.float32))\n",
        "        answer = self.net(val_x)\n",
        "        results = [ np.argmax(v.detach().numpy()) for v in self.func(answer)]\n",
        "        matrix = np.zeros((self.classes_count, self.classes_count), dtype=np.int32)\n",
        "        for res, y in zip(results, Y):\n",
        "            matrix[res][y] += 1\n",
        "        return matrix"
      ]
    },
    {
      "cell_type": "markdown",
      "metadata": {
        "id": "WpDE6uqfokpY"
      },
      "source": [
        "## Загрузка датасетов и подготовка данных"
      ]
    },
    {
      "cell_type": "markdown",
      "source": [
        "### Подготовительные функции"
      ],
      "metadata": {
        "id": "sQ_oypvEuy-m"
      }
    },
    {
      "cell_type": "code",
      "source": [
        "def convert_values(df):\n",
        "    return np.array(df).astype(np.float32)/255\n",
        "\n",
        "\n",
        "# TODO: замепнить на свои функции из 2.1\n",
        "def count_of_keys(data):\n",
        "    unique = np.unique(data)\n",
        "    count = np.zeros(len(unique), dtype=np.int32)\n",
        "    for v in data:\n",
        "        count[v] += 1\n",
        "    return count\n",
        "\n",
        "def visualization_of_counts(df):\n",
        "    counts = count_of_keys(df)\n",
        "    plt.ylabel(\"Кол-во элементов в классе\")\n",
        "    plt.xlabel(\"Номер каждого класса\")\n",
        "    plt.bar(np.arange(len(counts)), counts)\n",
        "    plt.xticks(np.arange(len(counts)), [i for i in range(len(counts))])\n",
        "\n",
        "def print_data(labels, features, string :str, color_chart):\n",
        "    visualization_of_counts(labels)\n",
        "    print(\"{}\".format(string))\n",
        "    print(\"Number of elements in the dataset : {}\".format(len(labels)))\n",
        "    print(\"The number of attributes in the element : {}\".format(len(features[0])))\n",
        "    print()\n",
        "    \n",
        "def analyze(labels, features, string :str):\n",
        "    visualization_of_counts(labels)\n",
        "    print(\"Данные для [{}]\".format(string))\n",
        "    print(\"Количество элементов в датасете : {}\".format(len(labels)))\n",
        "    print(\"Количество атрибутов в элементе : {}\".format(len(features[0])))\n",
        "    print(\"Минимальное значение атрибута   : {}\".format(np.min(features)))\n",
        "    print(\"Максимальное значение атрибута  : {}\".format(np.max(features)))\n",
        "    print()"
      ],
      "metadata": {
        "id": "ufRfiXpKuyKx"
      },
      "execution_count": null,
      "outputs": []
    },
    {
      "cell_type": "markdown",
      "source": [
        "### MNIST"
      ],
      "metadata": {
        "id": "T4aHCe6r--qn"
      }
    },
    {
      "cell_type": "code",
      "execution_count": null,
      "metadata": {
        "colab": {
          "base_uri": "https://localhost:8080/"
        },
        "id": "b4Rh3KARokpY",
        "outputId": "5e01111e-2a0e-486b-bfc8-32e085600755"
      },
      "outputs": [
        {
          "output_type": "stream",
          "name": "stderr",
          "text": [
            "/usr/local/lib/python3.7/dist-packages/torchvision/datasets/mnist.py:65: UserWarning: train_labels has been renamed targets\n",
            "  warnings.warn(\"train_labels has been renamed targets\")\n",
            "/usr/local/lib/python3.7/dist-packages/torchvision/datasets/mnist.py:75: UserWarning: train_data has been renamed data\n",
            "  warnings.warn(\"train_data has been renamed data\")\n"
          ]
        },
        {
          "output_type": "stream",
          "name": "stdout",
          "text": [
            "(60000, 784)\n",
            "Данные для [Обучающая выборка из MNIST]\n",
            "Количество элементов в датасете : 60000\n",
            "Количество атрибутов в элементе : 784\n",
            "Минимальное значение атрибута   : 0.0\n",
            "Максимальное значение атрибута  : 1.0\n",
            "\n",
            "(10000, 784)\n",
            "Данные для [Тестовая выборка из MNIST]\n",
            "Количество элементов в датасете : 10000\n",
            "Количество атрибутов в элементе : 784\n",
            "Минимальное значение атрибута   : 0.0\n",
            "Максимальное значение атрибута  : 1.0\n",
            "\n"
          ]
        }
      ],
      "source": [
        "#transformations = transforms.Compose([\n",
        "#  transforms.ToTensor(),\n",
        "#  transforms.Normalize()                                         \n",
        "#])\n",
        "#TODO поставить свои функции\n",
        "#Убрать кол-во элементов в атрибуте \n",
        "#Почему 28-то??\n",
        "#TODO разбиение на выборки вынести в analize \n",
        "mnist_train = datasets.MNIST(root = './data/', train = True, transform = transforms.ToTensor(), download=True)\n",
        "mnist_train_x = mnist_train.train_labels;\n",
        "mnist_train_y_raw = mnist_train.train_data;\n",
        "\n",
        "mnist_train_y = convert_values(mnist_train_y_raw)\n",
        "mnist_train_y_reshape = mnist_train_y.reshape(60000, -1)\n",
        "print(mnist_train_y_reshape.shape)\n",
        "\n",
        "analyze(mnist_train_x, mnist_train_y_reshape, \"Обучающая выборка из MNIST\")\n",
        "\n",
        "mnist_test = datasets.MNIST(root = './data/', train = False,transform = transforms.ToTensor(), download=True)\n",
        "mnist_test_x = mnist_test.train_labels;\n",
        "mnist_test_y_raw = mnist_test.train_data;\n",
        "\n",
        "mnist_test_y = convert_values(mnist_test_y_raw)\n",
        "mnist_test_y_reshape = mnist_test_y.reshape(10000, -1)\n",
        "print(mnist_test_y_reshape.shape)\n",
        "analyze(mnist_test_x, mnist_test_y_reshape, \"Тестовая выборка из MNIST\")\n",
        "\n",
        "#delete:\n",
        "#print(len(mnist_train_x))\n",
        "#print(len(mnist_train_y[0]))\n",
        "#print(np.min(mnist_train_y))\n",
        "#print(np.max(mnist_train_y))\n",
        "#print(MNIST_test)"
      ]
    },
    {
      "cell_type": "markdown",
      "metadata": {
        "id": "TXcJd_tWokpZ"
      },
      "source": [
        "### FasionMNIST"
      ]
    },
    {
      "cell_type": "code",
      "execution_count": null,
      "metadata": {
        "id": "EB6tii5hokpa",
        "colab": {
          "base_uri": "https://localhost:8080/",
          "height": 609
        },
        "outputId": "561bad15-b86c-49e6-cbcb-37e95926dea4"
      },
      "outputs": [
        {
          "output_type": "stream",
          "name": "stderr",
          "text": [
            "/usr/local/lib/python3.7/dist-packages/torchvision/datasets/mnist.py:65: UserWarning: train_labels has been renamed targets\n",
            "  warnings.warn(\"train_labels has been renamed targets\")\n",
            "/usr/local/lib/python3.7/dist-packages/torchvision/datasets/mnist.py:75: UserWarning: train_data has been renamed data\n",
            "  warnings.warn(\"train_data has been renamed data\")\n"
          ]
        },
        {
          "output_type": "stream",
          "name": "stdout",
          "text": [
            "torch.Size([60000])\n",
            "(60000, 784)\n",
            "Данные для [Обучающая выборка из Fashion MNIST]\n",
            "Количество элементов в датасете : 60000\n",
            "Количество атрибутов в элементе : 784\n",
            "Минимальное значение атрибута   : 0.0\n",
            "Максимальное значение атрибута  : 1.0\n",
            "\n",
            "(10000, 784)\n",
            "Данные для [Тестовая выборка из Fashion MNIST]\n",
            "Количество элементов в датасете : 10000\n",
            "Количество атрибутов в элементе : 784\n",
            "Минимальное значение атрибута   : 0.0\n",
            "Максимальное значение атрибута  : 1.0\n",
            "\n"
          ]
        },
        {
          "output_type": "display_data",
          "data": {
            "text/plain": [
              "<Figure size 432x288 with 1 Axes>"
            ],
            "image/png": "[encoded data removed]"
          },
          "metadata": {
            "needs_background": "light"
          }
        }
      ],
      "source": [
        "fashion_mnist_train = datasets.FashionMNIST(root = './fdata/', train = True, transform = transforms.ToTensor(), download=True)\n",
        "fashion_mnist_train_x = fashion_mnist_train.train_labels;\n",
        "fashion_mnist_train_y_raw = fashion_mnist_train.train_data;\n",
        "\n",
        "fashion_mnist_train_y = convert_values(fashion_mnist_train_y_raw)\n",
        "fashion_mnist_train_y_reshape = fashion_mnist_train_y.reshape(60000, -1)\n",
        "##tmp\n",
        "print(fashion_mnist_train_x.shape)\n",
        "##\n",
        "print(fashion_mnist_train_y_reshape.shape)\n",
        "\n",
        "analyze(fashion_mnist_train_x, fashion_mnist_train_y_reshape, \"Обучающая выборка из Fashion MNIST\")\n",
        "\n",
        "fashion_mnist_test = datasets.MNIST(root = './fdata/', train = False,transform = transforms.ToTensor(), download=True)\n",
        "fashion_mnist_test_x = fashion_mnist_test.train_labels;\n",
        "fashion_mnist_test_y_raw = fashion_mnist_test.train_data;\n",
        "\n",
        "fashion_mnist_test_y = convert_values(fashion_mnist_test_y_raw)\n",
        "\n",
        "fashion_mnist_test_y_reshape = fashion_mnist_test_y.reshape(10000, -1)\n",
        "print(fashion_mnist_test_y_reshape.shape)\n",
        "analyze(fashion_mnist_test_x, fashion_mnist_test_y_reshape, \"Тестовая выборка из Fashion MNIST\")\n",
        "\n",
        "\n",
        "#print(fashion_mnist_train)\n",
        "#(fashion_mnist_train_y_raw.shape)"
      ]
    },
    {
      "cell_type": "markdown",
      "source": [
        "### CIFAR-10"
      ],
      "metadata": {
        "id": "LbgSwyYw1i5v"
      }
    },
    {
      "cell_type": "markdown",
      "source": [
        "Датасет CIFAR-10 состоит из цветных изображений размером 32х32. Для картинок есть 10 категорий. Чтобы обучать нейросеть на таком датасете проще разбить тренировочный датасет на минибатчи (по умолчанию возьмем 16 картинкок) и обрабатывать не по одной картинки, а несколько сразу."
      ],
      "metadata": {
        "id": "rv9L6bpYRzue"
      }
    },
    {
      "cell_type": "markdown",
      "source": [
        "#### Локальные функции для датасета CIFAR-10\n",
        "\n",
        "Функция нормализации (для последующей обработки)\n",
        "\n",
        "Функция денормализации (для визуального представления минибатча из датасета)"
      ],
      "metadata": {
        "id": "CuRYvw1JRnUW"
      }
    },
    {
      "cell_type": "code",
      "source": [
        "train_size = 50000\n",
        "test_size = 50000\n",
        "\n",
        "def imshow(img, lbls):\n",
        "    img = img / 2 + 0.5     # unnormalize\n",
        "    npimg = img.numpy()\n",
        "    plt.imshow(np.transpose(npimg, (1, 2, 0)))\n",
        "    plt.show()\n",
        "    classes = ('plane', 'car', 'bird', 'cat',\n",
        "           'deer', 'dog', 'frog', 'horse', 'ship', 'truck')\n",
        "    print('  '.join(f'{classes[lbls[j]]:2s}' for j in range(2)))\n",
        "    print('  '.join(f'{classes[lbls[j]]:2s}' for j in range(2)))\n"
      ],
      "metadata": {
        "id": "siIbIk1kRmX7"
      },
      "execution_count": null,
      "outputs": []
    },
    {
      "cell_type": "markdown",
      "source": [
        "#### Загрузка датасета"
      ],
      "metadata": {
        "id": "Q1C4SaH5TS7-"
      }
    },
    {
      "cell_type": "code",
      "source": [
        "cfar_train_list = datasets.CIFAR10(root = './cdata/', train = True, transform = transforms.ToTensor(), download=True)\n",
        "cfar_train_batches =  torch.utils.data.DataLoader(cfar_train_list, batch_size=train_size, shuffle=True, num_workers=2)\n",
        "\n",
        "cfar_test_list = datasets.CIFAR10(root = './cdata/', train = False,transform = transforms.ToTensor(), download=True)\n",
        "cfar_test_batches =  torch.utils.data.DataLoader(cfar_test_list, batch_size=test_size, shuffle=True, num_workers=2)\n",
        "\n",
        "#print(np.array(cfar_train_list.train_list[0]).shape)\n",
        "train_dataiter = iter(cfar_train_batches)\n",
        "cfar_train_images, cfar_train_labels = train_dataiter.next()\n",
        "cfar_train_images_reshape = cfar_train_images.reshape(50000,-1)\n",
        "print(cfar_train_images_reshape.shape)\n",
        "print(cfar_train_labels.shape)\n",
        "\n",
        "dataiter = iter(cfar_train_batches)\n",
        "cfar_train_images, cfar_train_labels = dataiter.next()\n",
        "cfar_train_images_reshape = cfar_train_images.reshape(50000,-1)\n",
        "print(cfar_train_images_reshape.shape)\n",
        "print(cfar_train_labels.shape)\n",
        "\n",
        "#cfar_train_labels_reshape = cfar_train_labels.reshape(49152,-1)\n",
        "\n",
        "#cfar_train_images, cfar_train_labels = cfar_train_list[0],cfar_train_list[1]\n",
        "\n",
        "#np.array(cfar_train_images).shape\n",
        "#print(\" \".join(f'{cfar_train_labels[]}'))\n",
        "\n",
        "#print(\"Пример тренировочных данных: \")\n",
        "#imshow(torchvision.utils.make_grid(cfar_train_images), cfar_train_labels)\n",
        "\n",
        "###\n",
        "#cfar_train_x = cfar_train.train_labels;\n",
        "#cfar_train_y_raw = cfar_train.train_data;\n",
        "\n",
        "#print(cfar_train_batches.)"
      ],
      "metadata": {
        "id": "VK52Br1O1s4M",
        "colab": {
          "base_uri": "https://localhost:8080/"
        },
        "outputId": "747bf1c3-2124-4b45-d7bd-bfce3928a0e1"
      },
      "execution_count": null,
      "outputs": [
        {
          "output_type": "stream",
          "name": "stdout",
          "text": [
            "Files already downloaded and verified\n",
            "Files already downloaded and verified\n",
            "torch.Size([50000, 3072])\n",
            "torch.Size([50000])\n"
          ]
        }
      ]
    },
    {
      "cell_type": "code",
      "source": [
        "cfar_train_images_reshape_array= np.array(cfar_train_images_reshape)"
      ],
      "metadata": {
        "id": "7zZi9VdDmXWk"
      },
      "execution_count": null,
      "outputs": []
    },
    {
      "cell_type": "code",
      "source": [
        "analyze(cfar_train_labels, cfar_train_images_reshape_array, \"Обчающая выборка CIFAR-10\")"
      ],
      "metadata": {
        "colab": {
          "base_uri": "https://localhost:8080/"
        },
        "id": "ZV6x1AehlIh8",
        "outputId": "075e47a5-2a8c-48f6-9faf-1ddb3687f0d0"
      },
      "execution_count": null,
      "outputs": [
        {
          "output_type": "stream",
          "name": "stdout",
          "text": [
            "Данные для [Обчающая выборка CIFAR-10]\n",
            "Количество элементов в датасете : 50000\n",
            "Количество атрибутов в элементе : 3072\n",
            "Минимальное значение атрибута   : 0.0\n",
            "Максимальное значение атрибута  : 1.0\n",
            "\n"
          ]
        }
      ]
    },
    {
      "cell_type": "markdown",
      "source": [
        "## Обучение и тестирование сети  "
      ],
      "metadata": {
        "id": "POTme1e51t7j"
      }
    },
    {
      "cell_type": "code",
      "source": [
        ""
      ],
      "metadata": {
        "id": "OIASG0pE1w-q"
      },
      "execution_count": null,
      "outputs": []
    }
  ],
  "metadata": {
    "kernelspec": {
      "display_name": "Python 3 (ipykernel)",
      "language": "python",
      "name": "python3"
    },
    "language_info": {
      "codemirror_mode": {
        "name": "ipython",
        "version": 3
      },
      "file_extension": ".py",
      "mimetype": "text/x-python",
      "name": "python",
      "nbconvert_exporter": "python",
      "pygments_lexer": "ipython3",
      "version": "3.10.2"
    },
    "colab": {
      "name": "Копия блокнота \"Solution.ipynb\"",
      "provenance": [],
      "collapsed_sections": [
        "TXcJd_tWokpZ",
        "LbgSwyYw1i5v"
      ],
      "include_colab_link": true
    }
  },
  "nbformat": 4,
  "nbformat_minor": 0
}