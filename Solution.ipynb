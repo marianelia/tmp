{
  "cells": [
    {
      "cell_type": "markdown",
      "metadata": {
        "id": "view-in-github",
        "colab_type": "text"
      },
      "source": [
        "<a href=\"https://colab.research.google.com/github/marianelia/tmp/blob/main/Solution.ipynb\" target=\"_parent\"><img src=\"https://colab.research.google.com/assets/colab-badge.svg\" alt=\"Open In Colab\"/></a>"
      ]
    },
    {
      "cell_type": "markdown",
      "metadata": {
        "id": "aFp2aK34okpG"
      },
      "source": [
        "## Лабораторная работа по курсу \"Искусственный интеллект\"\n",
        "## Многослойный персептрон\n",
        "\n",
        "| Студент | Лагуткина |\n",
        "|---------|--------|\n",
        "| Группа  | 6      |\n",
        "\n",
        "Вариант: 1\n",
        "\n",
        "Для начала, скачаем датасет MNIST. Используйте `wget` или `curl`, либо скачайте вручную [по ссылке](https://raw.githubusercontent.com/shwars/NeuroWorkshop/master/Data/MNIST/mnist.pkl.gz)."
      ]
    },
    {
      "cell_type": "markdown",
      "source": [
        "## Нейронная сеть \n",
        "### Установка библиотек и настройка среды\n"
      ],
      "metadata": {
        "id": "04VDWhZ1sJuA"
      }
    },
    {
      "cell_type": "code",
      "execution_count": 18,
      "metadata": {
        "tags": [],
        "id": "Bcu9rYIaokpQ"
      },
      "outputs": [],
      "source": [
        "import torch\n",
        "import numpy as np\n",
        "import pandas\n",
        "import torchvision.datasets as datasets\n",
        "import torchvision.transforms as transforms\n",
        "import matplotlib.pyplot as plt"
      ]
    },
    {
      "cell_type": "code",
      "source": [
        "print(torch.__version__)"
      ],
      "metadata": {
        "colab": {
          "base_uri": "https://localhost:8080/"
        },
        "id": "DDtD4hoouVP8",
        "outputId": "954fecfd-81f2-4e83-d8dc-02bd88aa8046"
      },
      "execution_count": 3,
      "outputs": [
        {
          "output_type": "stream",
          "name": "stdout",
          "text": [
            "1.10.0+cu111\n"
          ]
        }
      ]
    },
    {
      "cell_type": "markdown",
      "source": [
        "### Устанавливаем вычислительное устройство"
      ],
      "metadata": {
        "id": "b8ZOCpZ-sHhE"
      }
    },
    {
      "cell_type": "code",
      "source": [
        "device = 'cuda' if torch.cuda.is_available() else 'cpu'\n",
        "def print_device():\n",
        "  print('Doing computations on '+device)"
      ],
      "metadata": {
        "id": "sNUj7WZUttXV"
      },
      "execution_count": 4,
      "outputs": []
    },
    {
      "cell_type": "markdown",
      "metadata": {
        "id": "Ilc-g2EbokpU"
      },
      "source": [
        "## Нейросеть\n"
      ]
    },
    {
      "cell_type": "code",
      "execution_count": null,
      "metadata": {
        "id": "bQ0VKw1mokpW"
      },
      "outputs": [],
      "source": [
        ""
      ]
    },
    {
      "cell_type": "code",
      "execution_count": null,
      "metadata": {
        "id": "gn_-DpWtokpX"
      },
      "outputs": [],
      "source": [
        ""
      ]
    },
    {
      "cell_type": "markdown",
      "metadata": {
        "id": "WpDE6uqfokpY"
      },
      "source": [
        "## Загрузка датасетов и подготовка данных"
      ]
    },
    {
      "cell_type": "markdown",
      "source": [
        "### Подготовительные функции"
      ],
      "metadata": {
        "id": "sQ_oypvEuy-m"
      }
    },
    {
      "cell_type": "code",
      "source": [
        "def convert_values(df):\n",
        "    return np.array(df).astype(np.float32)/255\n",
        "\n",
        "\n",
        "# TODO: замепнить на свои функции из 2.1\n",
        "def count_of_keys(data):\n",
        "    unique = np.unique(data)\n",
        "    count = np.zeros(len(unique), dtype=np.int32)\n",
        "    for v in data:\n",
        "        count[v] += 1\n",
        "    return count\n",
        "\n",
        "def visualization_of_counts(df):\n",
        "    counts = count_of_keys(df)\n",
        "    plt.ylabel(\"Кол-во элементов в классе\")\n",
        "    plt.xlabel(\"Номер каждого класса\")\n",
        "    plt.bar(np.arange(len(counts)), counts)\n",
        "    plt.xticks(np.arange(len(counts)), [i for i in range(len(counts))])\n",
        "\n",
        "def print_data(labels, features, string :str, color_chart):\n",
        "    visualization_of_counts(labels)\n",
        "    print(\"{}\".format(string))\n",
        "    print(\"Number of elements in the dataset : {}\".format(len(labels)))\n",
        "    print(\"The number of attributes in the element : {}\".format(len(features[0])))\n",
        "    print()\n",
        "    \n",
        "def analyze(labels, features, string :str):\n",
        "    visualization_of_counts(labels)\n",
        "    print(\"Данные для [{}]\".format(string))\n",
        "    print(\"Количество элементов в датасете : {}\".format(len(labels)))\n",
        "    print(\"Количество атрибутов в элементе : {}\".format(len(features[0])))\n",
        "    print(\"Минимальное значение атрибута   : {}\".format(np.min(features)))\n",
        "    print(\"Максимальное значение атрибута  : {}\".format(np.max(features)))\n",
        "    print()"
      ],
      "metadata": {
        "id": "ufRfiXpKuyKx"
      },
      "execution_count": 31,
      "outputs": []
    },
    {
      "cell_type": "markdown",
      "source": [
        "### MNIST"
      ],
      "metadata": {
        "id": "T4aHCe6r--qn"
      }
    },
    {
      "cell_type": "code",
      "execution_count": 37,
      "metadata": {
        "colab": {
          "base_uri": "https://localhost:8080/",
          "height": 559
        },
        "id": "b4Rh3KARokpY",
        "outputId": "f43efa92-1d11-407a-de2c-d6ffbbff95b8"
      },
      "outputs": [
        {
          "output_type": "stream",
          "name": "stderr",
          "text": [
            "/usr/local/lib/python3.7/dist-packages/torchvision/datasets/mnist.py:52: UserWarning: train_labels has been renamed targets\n",
            "  warnings.warn(\"train_labels has been renamed targets\")\n",
            "/usr/local/lib/python3.7/dist-packages/torchvision/datasets/mnist.py:62: UserWarning: train_data has been renamed data\n",
            "  warnings.warn(\"train_data has been renamed data\")\n"
          ]
        },
        {
          "output_type": "stream",
          "name": "stdout",
          "text": [
            "Данные для [Обучающая выборка из MNIST]\n",
            "Количество элементов в датасете : 60000\n",
            "Количество атрибутов в элементе : 28\n",
            "Минимальное значение атрибута   : 0.0\n",
            "Максимальное значение атрибута  : 1.0\n",
            "\n",
            "Данные для [Тестовая выборка из MNIST]\n",
            "Количество элементов в датасете : 10000\n",
            "Количество атрибутов в элементе : 28\n",
            "Минимальное значение атрибута   : 0.0\n",
            "Максимальное значение атрибута  : 1.0\n",
            "\n"
          ]
        },
        {
          "output_type": "display_data",
          "data": {
            "text/plain": [
              "<Figure size 432x288 with 1 Axes>"
            ],
            "image/png": "[encoded data removed]"
          },
          "metadata": {
            "needs_background": "light"
          }
        }
      ],
      "source": [
        "#transformations = transforms.Compose([\n",
        "#  transforms.ToTensor(),\n",
        "#  transforms.Normalize()                                         \n",
        "#])\n",
        "#TODO поставить свои функции\n",
        "#Убрать кол-во элементов в атрибуте \n",
        "#Почему 28-то??\n",
        "#TODO разбиение на выборки вынести в analize \n",
        "mnist_train = datasets.MNIST(root = './data/', train = True, transform = transforms.ToTensor(), download=True)\n",
        "mnist_train_x = mnist_train.train_labels;\n",
        "mnist_train_y_raw = mnist_train.train_data;\n",
        "\n",
        "mnist_train_y = convert_values(mnist_train_y_raw)\n",
        "analyze(mnist_train_x, mnist_train_y, \"Обучающая выборка из MNIST\")\n",
        "\n",
        "mnist_test = datasets.MNIST(root = './data/', train = False,transform = transforms.ToTensor(), download=True)\n",
        "mnist_test_x = mnist_test.train_labels;\n",
        "mnist_test_y_raw = mnist_test.train_data;\n",
        "\n",
        "mnist_test_y = convert_values(mnist_test_y_raw)\n",
        "analyze(mnist_test_x, mnist_test_y, \"Тестовая выборка из MNIST\")\n",
        "\n",
        "#delete:\n",
        "#print(len(mnist_train_x))\n",
        "#print(len(mnist_train_y[0]))\n",
        "#print(np.min(mnist_train_y))\n",
        "#print(np.max(mnist_train_y))\n",
        "#print(MNIST_test)"
      ]
    },
    {
      "cell_type": "markdown",
      "metadata": {
        "id": "TXcJd_tWokpZ"
      },
      "source": [
        "### FasionMNIST"
      ]
    },
    {
      "cell_type": "code",
      "execution_count": null,
      "metadata": {
        "id": "EB6tii5hokpa"
      },
      "outputs": [],
      "source": [
        ""
      ]
    },
    {
      "cell_type": "code",
      "source": [
        ""
      ],
      "metadata": {
        "id": "d-FW3BLw1b-U"
      },
      "execution_count": null,
      "outputs": []
    },
    {
      "cell_type": "code",
      "source": [
        ""
      ],
      "metadata": {
        "id": "Yc5kufFE1cCd"
      },
      "execution_count": null,
      "outputs": []
    },
    {
      "cell_type": "code",
      "source": [
        ""
      ],
      "metadata": {
        "id": "L9J8__Cb1dCQ"
      },
      "execution_count": null,
      "outputs": []
    },
    {
      "cell_type": "markdown",
      "source": [
        ""
      ],
      "metadata": {
        "id": "yfn_pNlv1vjS"
      }
    },
    {
      "cell_type": "markdown",
      "source": [
        "### CIFAR-10"
      ],
      "metadata": {
        "id": "LbgSwyYw1i5v"
      }
    },
    {
      "cell_type": "code",
      "source": [
        ""
      ],
      "metadata": {
        "id": "VK52Br1O1s4M"
      },
      "execution_count": null,
      "outputs": []
    },
    {
      "cell_type": "markdown",
      "source": [
        "## Обучение и тестирование сети  "
      ],
      "metadata": {
        "id": "POTme1e51t7j"
      }
    },
    {
      "cell_type": "code",
      "source": [
        ""
      ],
      "metadata": {
        "id": "OIASG0pE1w-q"
      },
      "execution_count": null,
      "outputs": []
    }
  ],
  "metadata": {
    "kernelspec": {
      "display_name": "Python 3 (ipykernel)",
      "language": "python",
      "name": "python3"
    },
    "language_info": {
      "codemirror_mode": {
        "name": "ipython",
        "version": 3
      },
      "file_extension": ".py",
      "mimetype": "text/x-python",
      "name": "python",
      "nbconvert_exporter": "python",
      "pygments_lexer": "ipython3",
      "version": "3.10.2"
    },
    "colab": {
      "name": "Solution.ipynb",
      "provenance": [],
      "collapsed_sections": [
        "TXcJd_tWokpZ",
        "LbgSwyYw1i5v"
      ],
      "include_colab_link": true
    }
  },
  "nbformat": 4,
  "nbformat_minor": 0
}